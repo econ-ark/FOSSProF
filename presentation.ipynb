{
 "cells": [
  {
   "cell_type": "markdown",
   "id": "18c26213-20d1-48b8-b498-3cba2b5997fd",
   "metadata": {
    "editable": true,
    "slideshow": {
     "slide_type": ""
    },
    "tags": []
   },
   "source": [
    "<h1 style=\"text-align: center;\"><a href=\"https://econ-ark.github.io/FOSSProF\">Reproducibility Standards</h1>\n",
    "<h2 style=\"text-align: center;\">in Economics (and beyond)</h2>\n",
    "<h3 style=\"text-align: center;\">JHU FOSSProF Summative Event</h3>\n",
    "<h5 style=\"text-align: center;\">October 7, 2024</h5>\n",
    "\n",
    "<h4 style=\"text-align: center;\">Alan Lujan (<a href=\"mailto:alujan@jhu.edu\">alujan@jhu.edu</a>)</h4>\n",
    "\n",
    "<h4 style=\"text-align: center;\">Chris Carroll (<a href=\"mailto:alujan@jhu.edu\">ccarroll@jhu.edu</a>)</h4>\n",
    "\n",
    "<div style=\"text-align:center\">\n",
    "    <img src=\"econ-ark-logo.png\" alt=\"econ-ark-logo\">\n",
    "</div>"
   ]
  },
  {
   "cell_type": "markdown",
   "id": "534e5b77-37af-44c7-8867-1cf8d8b7cdb0",
   "metadata": {
    "editable": true,
    "slideshow": {
     "slide_type": "slide"
    },
    "tags": []
   },
   "source": [
    "<style>\n",
    ".reveal .slides {\n",
    "  left: 50% !important;\n",
    "  top: 50% !important;\n",
    "  transform: translate(-50%, -50%) !important;\n",
    "  margin: 0 !important;\n",
    "}\n",
    "</style>\n",
    "# [REMARK](https://github.com/econ-ark/REMARK?tab=readme-ov-file#replicationseproductions-and-explorations-made-using-ark-remark) Motivation\n",
    "\n",
    "- Econ lags in reproducibility practices\n",
    "- State of field: for _published_ papers\n",
    "  - `.zip` archive has *some files*\n",
    "    - rarely works 'out of the box'\n",
    "  - Top-5 journals have a 'data editor'\n",
    "      - Very expensive\n",
    "      - Excellent barrier to competition\n",
    "      - Data $\\neq$ results"
   ]
  },
  {
   "cell_type": "markdown",
   "id": "4e57b738-4c15-4342-b708-86faf1ff7905",
   "metadata": {
    "editable": true,
    "slideshow": {
     "slide_type": "slide"
    },
    "tags": []
   },
   "source": [
    "## [Econ-ARK](https://econ-ark.org) REMARK solutions\n",
    "\n",
    "- _Standards_ for reproducibility of compute\n",
    "    - self-contained and complete projects\n",
    "    - executable on any modern computer\n",
    "      "
   ]
  },
  {
   "cell_type": "markdown",
   "id": "7e0c600c-34d9-4e0e-be1d-05bd0c70aad9",
   "metadata": {
    "editable": true,
    "slideshow": {
     "slide_type": "subslide"
    },
    "tags": []
   },
   "source": [
    "- Emphasis on:\n",
    "    - minimally good code\n",
    "      - enforced algorithmically\n",
    "      - would be huge improvement\n",
    "      - \"ChatGPT, fix my documentation\"\n",
    "    - explicit claims (\"Risk Aversion: [2.5,3.5]\")\n",
    "    - standardized metadata"
   ]
  },
  {
   "cell_type": "markdown",
   "id": "e99d52f5-4aeb-489c-ac6c-9958c730eac4",
   "metadata": {
    "editable": true,
    "jp-MarkdownHeadingCollapsed": true,
    "slideshow": {
     "slide_type": "slide"
    },
    "tags": []
   },
   "source": [
    "# So Far: [About 23+3 REMARKs](https://econ-ark.org/materials)\n",
    "\n",
    "- Many replicating canonical papers\n",
    "\n",
    "- Three new ones created for FossProF:\n",
    "    - [Imai_Keane (2004) by John Green](https://github.com/JohnRGreen/ImaiKeane_replication)\n",
    "    - [DeNardi (2004) by Ashish Kumar](https://github.com/ashishk87/DeNardi_2004_replication)\n",
    "    - [Aiyagari (1994) by Adam Edwards](https://github.com/Adam-Edwards-JHU/Aiyagari1994QJE)\n",
    "    \n",
    "- Paul Romer:\n",
    "  - This is the future of academic publishing"
   ]
  },
  {
   "cell_type": "markdown",
   "id": "13a07ba2-873f-4eba-965f-d749450281c4",
   "metadata": {
    "editable": true,
    "slideshow": {
     "slide_type": "slide"
    },
    "tags": []
   },
   "source": [
    "# _Jointly_ Reproducible:\n",
    "## -- Code and Math and Text\n",
    "\n",
    "- Solved: most computational aspects\n",
    "    - [Docker containers](https://docker.com) for universality\n",
    "      - Linux, Windows, MacOS, AWS, ...\n",
    "    - version control (git/[GitHub](https://github.com)) = ownership\n",
    "    - [cff references](https://citation-file-format.github.io/) make it findable/indexable\n",
    "    - [Zenodo](https://zenodo.org): independent \"release\" archiving"
   ]
  },
  {
   "cell_type": "markdown",
   "id": "5541a29d-73fd-44de-858e-ee8c2753d26b",
   "metadata": {
    "editable": true,
    "slideshow": {
     "slide_type": "slide"
    },
    "tags": []
   },
   "source": [
    "# Math and Text _with_ Code?\n",
    "- [LaTeX](https://www.tug.org/texlive/) is standard for text, but...\n",
    "    - definitely *not lightweight*\n",
    "    - no dynamically executable content\n",
    "- Now: tenuous connection _between_ text and code\n",
    "  - \"where is equation 18 implemented\"?\n",
    "    - in a gestalt of interactions\n",
    "- Future:\n",
    "  - [\"this math: implemented by this code\"](https://econ-ark.org/materials/bufferstocktheory)"
   ]
  },
  {
   "cell_type": "markdown",
   "id": "ff00199e-022c-4050-a0f9-0b38ba7c68f3",
   "metadata": {
    "editable": true,
    "slideshow": {
     "slide_type": "slide"
    },
    "tags": []
   },
   "source": [
    "# FOSSProF $\\rightarrow$ [CurveNote](https://curvenote.com/)\n",
    "\n",
    "Funding let us hire open source contractor\n",
    "- To do things we could not do\n",
    "\n",
    "## At our direction:\n",
    "- Integrated [MyST Markdown](https://mystmd.org/) into REMARK\n",
    "- Filled gaps in tools to integrate text, math, and code\n",
    "- Improved LaTeX $\\rightarrow$ MyST engine\n",
    "  - Tools required for some of our REMARKs"
   ]
  },
  {
   "cell_type": "markdown",
   "id": "baf2c769-f603-450c-9e62-c4c8c2444895",
   "metadata": {
    "editable": true,
    "slideshow": {
     "slide_type": "slide"
    },
    "tags": []
   },
   "source": [
    "# CurveNote: LaTeX\n",
    "\n",
    "![title](CNlatexImprovements.png)"
   ]
  },
  {
   "cell_type": "markdown",
   "id": "9b2fa14e-1122-476c-a57c-d30587a33df2",
   "metadata": {
    "editable": true,
    "slideshow": {
     "slide_type": "slide"
    },
    "tags": []
   },
   "source": [
    "# CurveNote: Computation\n",
    "![title](CNexamples.png)"
   ]
  },
  {
   "cell_type": "markdown",
   "id": "81280fcf-d738-47a6-9f69-69228898caa4",
   "metadata": {
    "editable": true,
    "jp-MarkdownHeadingCollapsed": true,
    "slideshow": {
     "slide_type": "slide"
    },
    "tags": []
   },
   "source": [
    "## Journal of Open Source Economics\n",
    "\n",
    "<a href=\"https://josecon.curve.space/articles/018dc338-e64c-7c68-9b37-4f3d092f4252\" target=\"_blank\">\n",
    " <img src=\"compute.png\" />\n",
    "</a>"
   ]
  },
  {
   "cell_type": "markdown",
   "id": "eee5306c-5365-4e68-a093-685dca29e4af",
   "metadata": {
    "editable": true,
    "slideshow": {
     "slide_type": "slide"
    },
    "tags": []
   },
   "source": [
    "# Not Specific to Economics!\n",
    "\n",
    "- conceived for projects using [Econ-ARK](https://docs.econ-ark.org)\n",
    "  - ... but doesn't require Econ-ARK\n",
    "- Not bound to economics *in any way*"
   ]
  },
  {
   "cell_type": "markdown",
   "id": "90847c77-e686-49d6-a7ea-04f0bc84435f",
   "metadata": {
    "editable": true,
    "slideshow": {
     "slide_type": "slide"
    },
    "tags": []
   },
   "source": [
    "## Rebranding: REMARK $\\rightarrow$ SCI-PASS\n",
    "\n",
    "- **S**cholarly **C**ommunication **I**nfrastructure for **P**ublishing and **A**rchiving **S**cientific **S**oftware\n",
    "- Ambition:\n",
    "  -  universal standard for repr compute\n",
    "     -  nothing now exists (we've looked)\n",
    "- Also short for “**sci**entific **pass**port”\n",
    "  - portability/sharing of research outputs"
   ]
  },
  {
   "cell_type": "markdown",
   "id": "72738d09-79ac-4e31-b5e5-2a0c13600553",
   "metadata": {
    "editable": true,
    "slideshow": {
     "slide_type": "slide"
    },
    "tags": []
   },
   "source": [
    "## Long-Term Goal: ISO standard\n",
    "\n",
    "- Adoptable by journals, libraries, archives ...\n",
    "- Existing software standards got started this way\n",
    "  - Somebody needed it for their own purposes\n",
    "- Members of our team:\n",
    "  - SB: \"Information Science\" PhD\n",
    "    - connection to archivists, librarians\n",
    "  - AS: Economics PhD\n",
    "    - Vetted ISO software standards for Oz"
   ]
  }
 ],
 "metadata": {
  "kernelspec": {
   "display_name": "Python 3 (ipykernel)",
   "language": "python",
   "name": "python3"
  },
  "language_info": {
   "codemirror_mode": {
    "name": "ipython",
    "version": 3
   },
   "file_extension": ".py",
   "mimetype": "text/x-python",
   "name": "python",
   "nbconvert_exporter": "python",
   "pygments_lexer": "ipython3",
   "version": "3.10.10"
  }
 },
 "nbformat": 4,
 "nbformat_minor": 5
}
