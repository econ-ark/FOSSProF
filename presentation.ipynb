{
 "cells": [
  {
   "cell_type": "markdown",
   "id": "54ab2ec5-3d8c-4e0d-b447-db12bdf670f1",
   "metadata": {},
   "source": [
    "# Reproducibility Standards in Economics\n",
    "\n",
    "## JHU FOSSProF Summative Event --- October 7, 2024\n",
    "\n",
    "### Alan Lujan (alujan@jhu.edu)\n",
    "\n",
    "### Chris Carroll (ccarroll@jhu.edu)\n",
    "\n",
    "![title](econ-ark-logo.png)"
   ]
  },
  {
   "cell_type": "markdown",
   "id": "cfcc173a-25e5-4c8d-844d-584a445a8505",
   "metadata": {},
   "source": [
    "# REMARK in a Nutshell\n",
    "\n",
    "- Economics profession lags other technical fields in reproducibility practices\n",
    "- State of the field: `.zip` file attached to journal publication, has *some files*\n",
    "\n",
    "## Econ-ARK's REMARK project\n",
    "\n",
    "- Set of standards and tools for reproducibility of computational modeling in economics\n",
    "    - self-contained and complete projects\n",
    "    - executable on any modern computer\n",
    "- Emphasis on:\n",
    "    - clear documentation\n",
    "    - testing procedures\n",
    "    - standardized metadata\n",
    "- Important: want project text *and* code archived and reproduced *together*"
   ]
  },
  {
   "cell_type": "markdown",
   "id": "07eb06c3-1c41-447d-91e8-588c8b542d63",
   "metadata": {},
   "source": [
    "# Jointly Reproducible Code and Text\n",
    "\n",
    "- Had already solved most computational aspects with extant tools:\n",
    "    - Docker containers\n",
    "    - version control systems\n",
    "- But lacked robust and portable standard for the production of the text\n",
    "    - Want to *directly integrate* reproducible code content in reproducible text\n",
    "- LaTeX is standard and widespread in economics, but...\n",
    "    - definitely *not lightweight*\n",
    "    - only produces static documents\n",
    "    - can't incorporate dynamically executable content"
   ]
  },
  {
   "cell_type": "markdown",
   "id": "ff00199e-022c-4050-a0f9-0b38ba7c68f3",
   "metadata": {},
   "source": [
    "# REMARK + FOSSProF --> CurveNote\n",
    "\n",
    "FOSSProF funding used to hire open source software contractor\n",
    "\n",
    "## CurveNote work at direction of Econ-ARK team:\n",
    "- Integrated MyST Markdown into REMARK project\n",
    "- Filled gaps in OS tools for typesetting and integrating results *in text*\n",
    "- Made improvements to MyST itself: increase backward compatibility w/ LaTeX\n",
    "- Can execute reproducible code directly in MyST documents"
   ]
  },
  {
   "cell_type": "markdown",
   "id": "baf2c769-f603-450c-9e62-c4c8c2444895",
   "metadata": {},
   "source": [
    "# CurveNote progress: LaTeX improvements\n",
    "\n",
    "![title](CNlatexImprovements.png)"
   ]
  },
  {
   "cell_type": "markdown",
   "id": "9b2fa14e-1122-476c-a57c-d30587a33df2",
   "metadata": {},
   "source": [
    "# CurveNote progress: Integration with REMARK examples\n",
    "\n",
    "![title](CNexamples.png)"
   ]
  },
  {
   "cell_type": "markdown",
   "id": "81280fcf-d738-47a6-9f69-69228898caa4",
   "metadata": {},
   "source": [
    "# AWESOME COOL EXAMPLE OF MyST IN REMARK"
   ]
  },
  {
   "cell_type": "markdown",
   "id": "79e16937-1ed7-4edb-88fb-4a181573e580",
   "metadata": {},
   "source": [
    "# The Work Continues...\n",
    "\n",
    "### Further MyST improvements for LaTeX compatibility\n",
    "\n",
    "- Improved table \\& references formatting\n",
    "- Expand extensibility / external package compatibility\n",
    "\n",
    "### Command-line interface tool\n",
    "\n",
    "- Used to generate REMARK templates, check for compliance with standard\n",
    "- Functionality for building environments and running reproducibility scripts\n",
    "\n",
    "### Making more REMARKS\n",
    "\n",
    "- JHU economics students reproduced \"classic\" papers as REMARKs\n",
    "- *Original* code and text of older papers should be properly archived"
   ]
  },
  {
   "cell_type": "markdown",
   "id": "899c9183-5dd2-47a3-af71-07abf6f8b7dd",
   "metadata": {},
   "source": [
    "# Oops: No Economics!\n",
    "\n",
    "- REMARK conceived for projects using Econ-ARK's toolkit... but doesn't use it\n",
    "- In fact, REMARK not bound to economics *in any way*\n",
    "\n",
    "## Rebranding: REMARK --> SCI-PASS\n",
    "\n",
    "- **S**cholarly **C**ommunication **I**nfrastructure for **P**ublishing and **A**rchiving **S**cientific **S**oftware\n",
    "- Captures ambition to establish universal \\& inclusive standard for reproducible scientific software\n",
    "- Also short for “**sci**entific **pass**port”: portability and exchangeability of research outputs\n",
    "\n",
    "## FUTURE AMBITIONS GO HERE\n",
    "\n",
    "- I don't know what you want to say\n",
    "- I bet you have something very clever"
   ]
  },
  {
   "cell_type": "code",
   "execution_count": null,
   "id": "4e17e52e-546a-42eb-8be0-3070fca925b7",
   "metadata": {},
   "outputs": [],
   "source": []
  }
 ],
 "metadata": {
  "kernelspec": {
   "display_name": "Python 3 (ipykernel)",
   "language": "python",
   "name": "python3"
  },
  "language_info": {
   "codemirror_mode": {
    "name": "ipython",
    "version": 3
   },
   "file_extension": ".py",
   "mimetype": "text/x-python",
   "name": "python",
   "nbconvert_exporter": "python",
   "pygments_lexer": "ipython3",
   "version": "3.10.14"
  }
 },
 "nbformat": 4,
 "nbformat_minor": 5
}
